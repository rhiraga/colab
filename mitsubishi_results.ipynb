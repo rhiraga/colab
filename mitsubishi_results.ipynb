{
  "nbformat": 4,
  "nbformat_minor": 0,
  "metadata": {
    "colab": {
      "provenance": [],
      "authorship_tag": "ABX9TyMtT1rp2TLiMeoAZQe3Wc3W",
      "include_colab_link": true
    },
    "kernelspec": {
      "name": "python3",
      "display_name": "Python 3"
    },
    "language_info": {
      "name": "python"
    }
  },
  "cells": [
    {
      "cell_type": "markdown",
      "metadata": {
        "id": "view-in-github",
        "colab_type": "text"
      },
      "source": [
        "<a href=\"https://colab.research.google.com/github/rhiraga/colab/blob/main/mitsubishi_results.ipynb\" target=\"_parent\"><img src=\"https://colab.research.google.com/assets/colab-badge.svg\" alt=\"Open In Colab\"/></a>"
      ]
    },
    {
      "cell_type": "code",
      "source": [
        "import pandas as pd\n",
        "\n",
        "# CSVファイルを読み込む（ファイル名を適宜変更してください）\n",
        "file_path = \"final_result.csv\"\n",
        "df = pd.read_csv(file_path)\n",
        "actual_column_name = 'wav'\n",
        "df['wav'] = df['wav'].str.extract(r'([A-Z]+_[A-Z]+)')\n",
        "# print(df.head())\n",
        "# wav_sorted_df = df.groupby('wav').apply(lambda x: x.sort_values(by='wav')).reset_index(drop=True)\n",
        "wav_sorted_df = df.groupby('wav', group_keys=False).apply(lambda x: x.sort_values(by='wav')).reset_index(drop=True)\n",
        "# wav_sorted_df = df.groupby('wav').apply(lambda x: x.sort_values(by='wav')[x.columns]).reset_index(drop=True)\n",
        "\n",
        "# 結果を表示\n",
        "# print(wav_sorted_df.head())\n",
        "\n",
        "wav_sorted_df.to_csv(\"wav_sorted.csv\", index=False)"
      ],
      "metadata": {
        "id": "T1kESWnD-oAA",
        "colab": {
          "base_uri": "https://localhost:8080/"
        },
        "outputId": "d1994af0-898a-45a1-de80-9eedf8b1015d"
      },
      "execution_count": null,
      "outputs": [
        {
          "output_type": "stream",
          "name": "stderr",
          "text": [
            "<ipython-input-10-b7f68866e937>:10: DeprecationWarning: DataFrameGroupBy.apply operated on the grouping columns. This behavior is deprecated, and in a future version of pandas the grouping columns will be excluded from the operation. Either pass `include_groups=False` to exclude the groupings or explicitly select the grouping columns after groupby to silence this warning.\n",
            "  wav_sorted_df = df.groupby('wav', group_keys=False).apply(lambda x: x.sort_values(by='wav')).reset_index(drop=True)\n"
          ]
        }
      ]
    },
    {
      "cell_type": "markdown",
      "source": [
        "# 新しいセクション"
      ],
      "metadata": {
        "id": "JUN9uJ_zqJdN"
      }
    },
    {
      "cell_type": "code",
      "source": [
        "import pandas as pd\n",
        "\n",
        "def sort_subjects(input_file, output_file):\n",
        "    # CSVを読み込む\n",
        "    df = pd.read_csv(input_file)\n",
        "\n",
        "    # 'subject' カラムでソートし、'wav' の順序を保持\n",
        "    df = df.sort_values(by=['wav', 'subject'])\n",
        "\n",
        "    # 結果をCSVとして保存\n",
        "    df.to_csv(output_file, index=False)\n",
        "\n",
        "def count_subject_occurrences(input_file, output_file):\n",
        "    # CSVを読み込む\n",
        "    df = pd.read_csv(input_file)\n",
        "\n",
        "    # 'wav' と 'subject' ごとの出現回数をカウント\n",
        "    count_df = df.groupby(['wav', 'subject']).size().reset_index(name='count')\n",
        "\n",
        "    # 結果をCSVとして保存\n",
        "    count_df.to_csv(output_file, index=False)\n",
        "# 実行例\n",
        "# input_file = \"precision.csv\"  # 入力CSVファイル名\n",
        "# output_file = \"sorted_subjects.csv\"  # 出力CSVファイル名\n",
        "# sort_subjects(input_file, output_file)\n",
        "input_file = \"sorted_subjects.csv\"\n",
        "output_file = \"count_subjects.csv\"\n",
        "count_subject_occurrences(input_file, output_file)"
      ],
      "metadata": {
        "id": "-MXbxx9bz9vu"
      },
      "execution_count": null,
      "outputs": []
    },
    {
      "cell_type": "code",
      "source": [
        "def transform_precision_csv(input_file, output_file):\n",
        "    # CSVを読み込む\n",
        "    df = pd.read_csv(input_file)\n",
        "\n",
        "    # 'subject' ごとに '_1', '_2', '_3', '_4' を付加した新しいカラム名を作成\n",
        "    df['subject'] = df['subject'].astype(str)  # subjectを文字列化\n",
        "    df['subject_index'] = df.groupby(['wav', 'subject']).cumcount() + 1\n",
        "    df['subject'] = df['subject'] + '_' + df['subject_index'].astype(str)\n",
        "\n",
        "    # ピボット形式で変換: 'subject' を列名、'precision' を値とする\n",
        "    transformed_df = df.pivot(index='wav', columns='subject', values='precision')\n",
        "\n",
        "    # インデックスをリセットし、'wav' を列に戻す\n",
        "    transformed_df.reset_index(inplace=True)\n",
        "\n",
        "    # カラム名を整える（'wav' を 'timbre' に変更）\n",
        "    transformed_df.rename(columns={'wav': 'timbre'}, inplace=True)\n",
        "\n",
        "    # 結果をCSVとして保存\n",
        "    transformed_df.to_csv(output_file, index=False)\n",
        "\n",
        "input_file = \"precision.csv\"\n",
        "output_file = \"transformed_precision.csv\"\n",
        "transform_precision_csv(input_file, output_file)"
      ],
      "metadata": {
        "id": "QfbFADp24cnb"
      },
      "execution_count": null,
      "outputs": []
    },
    {
      "cell_type": "code",
      "source": [
        "import pandas as pd\n",
        "\n",
        "def transform_metric_csv(input_file, output_file_prefix):\n",
        "    # CSVを読み込む\n",
        "    df = pd.read_csv(input_file)\n",
        "\n",
        "    # 're' カラムを削除\n",
        "    if 're' in df.columns:\n",
        "        df = df.drop(columns=['re'])\n",
        "\n",
        "    # 変換対象のメトリクス\n",
        "    metrics = ['precision', 'recall', 'f-measure', 'cemgil', 'confidence', 'user_taps']\n",
        "\n",
        "    # 各メトリクスについて変形と出力を実行\n",
        "    for metric in metrics:\n",
        "        # 'subject' ごとに '_1', '_2', '_3', '_4' を付加した新しいカラム名を作成\n",
        "        temp_df = df[['wav', 'subject', metric]].copy()\n",
        "        temp_df['subject'] = temp_df['subject'].astype(str)  # subjectを文字列化\n",
        "        temp_df['subject_index'] = temp_df.groupby(['wav', 'subject']).cumcount() + 1\n",
        "        temp_df['subject'] = temp_df['subject'] + '_' + temp_df['subject_index'].astype(str)\n",
        "\n",
        "        # ピボット形式で変換: 'subject' を列名、メトリクスを値とする\n",
        "        transformed_df = temp_df.pivot(index='wav', columns='subject', values=metric)\n",
        "\n",
        "        # インデックスをリセットし、'wav' を列に戻す\n",
        "        transformed_df.reset_index(inplace=True)\n",
        "\n",
        "        # カラム名を整える（'wav' を 'timbre' に変更）\n",
        "        transformed_df.rename(columns={'wav': 'timbre'}, inplace=True)\n",
        "\n",
        "        # 結果をCSVとして保存\n",
        "        output_file = f\"{output_file_prefix}_{metric}.csv\"\n",
        "        transformed_df.to_csv(output_file, index=False)\n",
        "\n",
        "def sort_subjects(input_file, output_file):\n",
        "    # CSVを読み込む\n",
        "    df = pd.read_csv(input_file)\n",
        "\n",
        "    # 'subject' カラムでソートし、'wav' の順序を保持\n",
        "    df = df.sort_values(by=['wav', 'subject'])\n",
        "\n",
        "    # 結果をCSVとして保存\n",
        "    df.to_csv(output_file, index=False)\n",
        "\n",
        "def count_subject_occurrences(input_file, output_file):\n",
        "    # CSVを読み込む\n",
        "    df = pd.read_csv(input_file)\n",
        "\n",
        "    # 'wav' と 'subject' ごとの出現回数をカウント\n",
        "    count_df = df.groupby(['wav', 'subject']).size().reset_index(name='count')\n",
        "\n",
        "    # 結果をCSVとして保存\n",
        "    count_df.to_csv(output_file, index=False)\n",
        "\n",
        "# 実行例\n",
        "input_file = \"final_result.csv\"  # 入力CSVファイル名\n",
        "output_file_prefix = \"transformed_result\"  # 出力CSVファイルの接頭辞\n",
        "\n",
        "# 各メトリクスについて変形を実行\n",
        "transform_metric_csv(input_file, output_file_prefix)\n"
      ],
      "metadata": {
        "id": "vik1zmP6-WV0"
      },
      "execution_count": null,
      "outputs": []
    },
    {
      "cell_type": "code",
      "source": [
        "import pandas as pd\n",
        "\n",
        "def transform_metric_csv(input_file, output_file_prefix):\n",
        "    # CSVを読み込む\n",
        "    df = pd.read_csv(input_file)\n",
        "\n",
        "    # 're' カラムを削除\n",
        "    if 're' in df.columns:\n",
        "        df = df.drop(columns=['re'])\n",
        "\n",
        "    # 変換対象のメトリクス\n",
        "    metrics = ['precision', 'recall', 'f-measure', 'cemgil', 'confidence', 'user_taps']\n",
        "\n",
        "    # 各メトリクスについて変形と出力を実行\n",
        "    for metric in metrics:\n",
        "        # 'subject' ごとに '_1', '_2', '_3', '_4' を付加した新しいカラム名を作成\n",
        "        temp_df = df[['wav', 'subject', metric]].copy()\n",
        "        temp_df['subject'] = temp_df['subject'].astype(str)  # subjectを文字列化\n",
        "        temp_df['subject_index'] = temp_df.groupby(['wav', 'subject']).cumcount() + 1\n",
        "        temp_df['subject'] = temp_df['subject'] + '_' + temp_df['subject_index'].astype(str)\n",
        "\n",
        "        # ピボット形式で変換: 'subject' を列名、メトリクスを値とする\n",
        "        transformed_df = temp_df.pivot(index='wav', columns='subject', values=metric)\n",
        "\n",
        "        # インデックスをリセットし、'wav' を列に戻す\n",
        "        transformed_df.reset_index(inplace=True)\n",
        "\n",
        "        # カラム名を整える（'wav' を 'timbre' に変更）\n",
        "        transformed_df.rename(columns={'wav': 'timbre'}, inplace=True)\n",
        "\n",
        "        # 欠損値（NaN）を 0 または適切なデフォルト値で埋める\n",
        "        transformed_df.fillna(0, inplace=True)\n",
        "\n",
        "        # 結果をCSVとして保存\n",
        "        output_file = f\"{output_file_prefix}_{metric}.csv\"\n",
        "        transformed_df.to_csv(output_file, index=False)\n",
        "\n",
        "def sort_subjects(input_file, output_file):\n",
        "    # CSVを読み込む\n",
        "    df = pd.read_csv(input_file)\n",
        "\n",
        "    # 'subject' カラムでソートし、'wav' の順序を保持\n",
        "    df = df.sort_values(by=['wav', 'subject'])\n",
        "\n",
        "    # 結果をCSVとして保存\n",
        "    df.to_csv(output_file, index=False)\n",
        "\n",
        "def count_subject_occurrences(input_file, output_file):\n",
        "    # CSVを読み込む\n",
        "    df = pd.read_csv(input_file)\n",
        "\n",
        "    # 'wav' と 'subject' ごとの出現回数をカウント\n",
        "    count_df = df.groupby(['wav', 'subject']).size().reset_index(name='count')\n",
        "\n",
        "    # 結果をCSVとして保存\n",
        "    count_df.to_csv(output_file, index=False)\n",
        "\n",
        "# 実行例\n",
        "input_file = \"final_result.csv\"  # 入力CSVファイル名\n",
        "output_file_prefix = \"transformed_result\"  # 出力CSVファイルの接頭辞\n",
        "\n",
        "# 各メトリクスについて変形を実行\n",
        "transform_metric_csv(input_file, output_file_prefix)\n"
      ],
      "metadata": {
        "id": "JT7NfR2E_9qh"
      },
      "execution_count": null,
      "outputs": []
    },
    {
      "cell_type": "code",
      "source": [
        "from google.colab import drive\n",
        "drive.mount('/content/drive')"
      ],
      "metadata": {
        "id": "Q-aTwhubqQAw"
      },
      "execution_count": null,
      "outputs": []
    },
    {
      "cell_type": "code",
      "execution_count": null,
      "metadata": {
        "colab": {
          "base_uri": "https://localhost:8080/"
        },
        "id": "fBeMRJL46wX5",
        "outputId": "855f3d87-5291-4aeb-f3a8-8745a67001f1"
      },
      "outputs": [
        {
          "output_type": "stream",
          "name": "stdout",
          "text": [
            "       wav  precision    recall  f-measure    cemgil  confidence  user_taps\n",
            "0  ACC_ACC   0.741630  0.693638   0.688333  0.690001    2.732143  31.339286\n",
            "1  ACC_APF   0.769954  0.709821   0.720247  0.716254    2.785714  30.053571\n",
            "2  APF_APF   0.770529  0.719866   0.721051  0.720008    2.678571  31.267857\n",
            "3  REC_ACC   0.797561  0.739844   0.748438  0.738608    2.857143  32.357143\n",
            "4  REC_APF   0.780525  0.712054   0.727718  0.724194    2.875000  29.714286\n",
            "5  REC_REC   0.735451  0.667969   0.683117  0.690410    2.767857  29.339286\n",
            "6  SHM_ACC   0.782495  0.722656   0.733063  0.725503    3.089286  30.125000\n",
            "7  SHM_APF   0.773438  0.703125   0.715712  0.714916    3.071429  29.750000\n",
            "8  SHM_REC   0.766448  0.688616   0.706630  0.705697    3.053571  28.946429\n",
            "9  SHM_SHM   0.787927  0.717634   0.729741  0.729382    2.875000  30.214286\n"
          ]
        }
      ],
      "source": [
        "import pandas as pd\n",
        "\n",
        "# CSVファイルを読み込む（ファイル名を適宜変更してください）\n",
        "file_path = \"final_result.csv\"\n",
        "df = pd.read_csv(file_path)\n",
        "actual_column_name = 'wav'\n",
        "df['wav'] = df['wav'].str.extract(r'([A-Z]+_[A-Z]+)')\n",
        "#print(df.head())\n",
        "\n",
        "# 平均値を計算するカラムリスト\n",
        "columns_to_average = ['precision', 'recall', 'f-measure', 'cemgil', 'confidence', 'user_taps']\n",
        "\n",
        "# 'wav'ごとに指定カラムの平均値を計算\n",
        "averaged_df = df.groupby('wav')[columns_to_average].mean().reset_index()\n",
        "\n",
        "# 結果を表示\n",
        "print(averaged_df)\n",
        "\n",
        "# 必要に応じてCSVに保存\n",
        "averaged_df.to_csv(\"averaged_results.csv\", index=False)\n"
      ]
    }
  ]
}